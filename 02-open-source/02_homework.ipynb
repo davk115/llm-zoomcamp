{
 "cells": [
  {
   "cell_type": "markdown",
   "id": "859ae44a-54b5-4b7c-a9b2-f21662cc0ccf",
   "metadata": {},
   "source": [
    "# Homework Week 2"
   ]
  },
  {
   "cell_type": "markdown",
   "id": "dff085c1-1103-4d18-a853-fb8d1b92bbdd",
   "metadata": {},
   "source": [
    "## Question 1"
   ]
  },
  {
   "cell_type": "markdown",
   "id": "ff8e1826-1bde-40ac-8e91-90de391af724",
   "metadata": {},
   "source": [
    "**Answer = 0.1.48**"
   ]
  },
  {
   "cell_type": "markdown",
   "id": "0d4eea60-a99c-45b2-8903-01f3c2e24169",
   "metadata": {},
   "source": [
    "## Question 2"
   ]
  },
  {
   "cell_type": "markdown",
   "id": "f0ec7778-eea1-48d2-a70a-d721f7544583",
   "metadata": {},
   "source": [
    "**Answer =**"
   ]
  },
  {
   "cell_type": "raw",
   "id": "f982b04e-25de-4d61-9beb-4e8f71f57ca4",
   "metadata": {},
   "source": [
    "{\"schemaVersion\":2,\"mediaType\":\"application/vnd.docker.distribution.manifest.v2+json\",\"config\":{\"mediaType\":\"application/vnd.docker.container.image.v1+json\",\"digest\":\"sha256:887433b89a901c156f7e6944442f3c9e57f3c55d6ed52042cbb7303aea994290\",\"size\":483},\"layers\":[{\"mediaType\":\"application/vnd.ollama.image.model\",\"digest\":\"sha256:c1864a5eb19305c40519da12cc543519e48a0697ecd30e15d5ac228644957d12\",\"size\":1678447520},{\"mediaType\":\"application/vnd.ollama.image.license\",\"digest\":\"sha256:097a36493f718248845233af1d3fefe7a303f864fae13bc31a3a9704229378ca\",\"size\":8433},{\"mediaType\":\"application/vnd.ollama.image.template\",\"digest\":\"sha256:109037bec39c0becc8221222ae23557559bc594290945a2c4221ab4f303b8871\",\"size\":136},{\"mediaType\":\"application/vnd.ollama.image.params\",\"digest\":\"sha256:22a838ceb7fb22755a3b0ae9b4eadde629d19be1f651f73efb8c6b4e2cd0eea0\",\"size\":84}]}root@e7755e6ae244:~/.ollama/models/manifests/registry.ollama.ai/library/gemma#"
   ]
  },
  {
   "cell_type": "markdown",
   "id": "bd99027c-dd72-427d-9c40-9c6c490bc6ea",
   "metadata": {},
   "source": [
    "## Question 3"
   ]
  },
  {
   "cell_type": "markdown",
   "id": "7072329c-74a4-4042-b8c6-9cf05c929d42",
   "metadata": {},
   "source": [
    "**Answer= \"10 * 10 = 100\"**"
   ]
  },
  {
   "cell_type": "markdown",
   "id": "637220a7-4c63-49a0-b017-5364e1638c6b",
   "metadata": {},
   "source": [
    "## Question 4"
   ]
  },
  {
   "cell_type": "markdown",
   "id": "323a3dc9-f387-4bcb-ba67-f568426f5cf1",
   "metadata": {},
   "source": [
    "**Answer = 1.6G**"
   ]
  },
  {
   "cell_type": "markdown",
   "id": "7dbd5a30-135a-4409-8e53-58b85a61c05d",
   "metadata": {},
   "source": [
    "## Question 5"
   ]
  },
  {
   "cell_type": "markdown",
   "id": "1d1a6522-d7b3-438b-a554-f34ef3fc8417",
   "metadata": {},
   "source": [
    "**Answer = \"ollama_files/ /root/.ollama/\"**"
   ]
  },
  {
   "cell_type": "markdown",
   "id": "bac4c6cd-0b8b-4bbe-8f50-e94c64285e06",
   "metadata": {},
   "source": [
    "## Question 6"
   ]
  },
  {
   "cell_type": "code",
   "execution_count": 1,
   "id": "b8bb372c-9c8b-4ce2-9af0-9e20a8c20853",
   "metadata": {},
   "outputs": [],
   "source": [
    "from openai import OpenAI\n",
    "\n",
    "client = OpenAI(\n",
    "    base_url='http://localhost:11434/v1/',\n",
    "    api_key='ollama',\n",
    ")"
   ]
  },
  {
   "cell_type": "code",
   "execution_count": 2,
   "id": "92370fa7-22d3-46ab-844b-fd74ae5d53af",
   "metadata": {},
   "outputs": [],
   "source": [
    "def llm(prompt):\n",
    "    response = client.chat.completions.create(\n",
    "        model='gemma:2b',\n",
    "        messages=[{\"role\": \"user\", \"content\": prompt}],\n",
    "        temperature=0.0\n",
    "    )\n",
    "    \n",
    "    return response"
   ]
  },
  {
   "cell_type": "code",
   "execution_count": 3,
   "id": "9037da1c-43c7-4433-b65e-e3ccc10bfdaf",
   "metadata": {},
   "outputs": [],
   "source": [
    "prompt = \"What's the formula for energy?\""
   ]
  },
  {
   "cell_type": "code",
   "execution_count": 4,
   "id": "c0cdb80d-9b39-40ea-9ff6-7dc15eae45d4",
   "metadata": {},
   "outputs": [],
   "source": [
    "result = llm(prompt)"
   ]
  },
  {
   "cell_type": "code",
   "execution_count": 5,
   "id": "dd214a58-3908-43d3-a2f9-8edc89bf0a16",
   "metadata": {},
   "outputs": [
    {
     "name": "stdout",
     "output_type": "stream",
     "text": [
      "Sure, here's the formula for energy:\n",
      "\n",
      "**E = K + U**\n",
      "\n",
      "Where:\n",
      "\n",
      "* **E** is the energy in joules (J)\n",
      "* **K** is the kinetic energy in joules (J)\n",
      "* **U** is the potential energy in joules (J)\n",
      "\n",
      "**Kinetic energy (K)** is the energy an object possesses when it moves or is in motion. It is calculated as half the product of an object's mass (m) and its velocity (v) squared:\n",
      "\n",
      "**K = 1/2 * m * v^2**\n",
      "\n",
      "**Potential energy (U)** is the energy an object possesses when it is in a position or has a specific configuration. It is calculated as the product of an object's mass and the gravitational constant (g) multiplied by the height or distance of the object from a reference point.\n",
      "\n",
      "**Gravitational potential energy (U)** is given by the formula:\n",
      "\n",
      "**U = mgh**\n",
      "\n",
      "Where:\n",
      "\n",
      "* **m** is the mass of the object in kilograms (kg)\n",
      "* **g** is the acceleration due to gravity in meters per second squared (m/s^2)\n",
      "* **h** is the height or distance of the object in meters (m)\n",
      "\n",
      "The formula for energy can be used to calculate the total energy of an object, the energy of a specific part of an object, or the change in energy of an object over time.\n",
      "304\n"
     ]
    }
   ],
   "source": [
    "answer = result.choices[0].message.content\n",
    "complete_tokens = result.usage.completion_tokens\n",
    "\n",
    "print(answer)\n",
    "print(complete_tokens)"
   ]
  },
  {
   "cell_type": "markdown",
   "id": "08b4d2a6-a9dd-450e-878a-262f57704e7d",
   "metadata": {},
   "source": [
    "**Answer = 304**"
   ]
  }
 ],
 "metadata": {
  "kernelspec": {
   "display_name": "Python 3 (ipykernel)",
   "language": "python",
   "name": "python3"
  },
  "language_info": {
   "codemirror_mode": {
    "name": "ipython",
    "version": 3
   },
   "file_extension": ".py",
   "mimetype": "text/x-python",
   "name": "python",
   "nbconvert_exporter": "python",
   "pygments_lexer": "ipython3",
   "version": "3.10.13"
  }
 },
 "nbformat": 4,
 "nbformat_minor": 5
}
