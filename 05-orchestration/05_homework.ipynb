{
 "cells": [
  {
   "cell_type": "markdown",
   "id": "859ae44a-54b5-4b7c-a9b2-f21662cc0ccf",
   "metadata": {},
   "source": [
    "# Homework Week 5"
   ]
  },
  {
   "cell_type": "markdown",
   "id": "dff085c1-1103-4d18-a853-fb8d1b92bbdd",
   "metadata": {},
   "source": [
    "## Question 1"
   ]
  },
  {
   "cell_type": "markdown",
   "id": "ff8e1826-1bde-40ac-8e91-90de391af724",
   "metadata": {},
   "source": [
    "**Answer = v0.9.72**"
   ]
  },
  {
   "cell_type": "markdown",
   "id": "0d4eea60-a99c-45b2-8903-01f3c2e24169",
   "metadata": {},
   "source": [
    "## Question 2"
   ]
  },
  {
   "cell_type": "markdown",
   "id": "f0ec7778-eea1-48d2-a70a-d721f7544583",
   "metadata": {},
   "source": [
    "**Answer = 1**"
   ]
  },
  {
   "cell_type": "markdown",
   "id": "bd99027c-dd72-427d-9c40-9c6c490bc6ea",
   "metadata": {},
   "source": [
    "## Question 3"
   ]
  },
  {
   "cell_type": "markdown",
   "id": "7072329c-74a4-4042-b8c6-9cf05c929d42",
   "metadata": {},
   "source": [
    "**Answer = 86**"
   ]
  },
  {
   "cell_type": "markdown",
   "id": "637220a7-4c63-49a0-b017-5364e1638c6b",
   "metadata": {},
   "source": [
    "## Question 4"
   ]
  },
  {
   "cell_type": "markdown",
   "id": "323a3dc9-f387-4bcb-ba67-f568426f5cf1",
   "metadata": {},
   "source": [
    "**Answer = 6fc3236a**"
   ]
  },
  {
   "cell_type": "markdown",
   "id": "7dbd5a30-135a-4409-8e53-58b85a61c05d",
   "metadata": {},
   "source": [
    "## Question 5"
   ]
  },
  {
   "cell_type": "code",
   "execution_count": 1,
   "id": "70c5a256",
   "metadata": {},
   "outputs": [],
   "source": [
    "query = {\n",
    "    \"query\": {\n",
    "        \"match\": {\n",
    "            \"text\": \"When is the next cohort?\"\n",
    "        }\n",
    "    }\n",
    "}"
   ]
  },
  {
   "cell_type": "code",
   "execution_count": 2,
   "id": "3edc57c7",
   "metadata": {},
   "outputs": [],
   "source": [
    "import requests\n",
    "from datetime import datetime\n",
    "from elasticsearch import Elasticsearch\n",
    "\n",
    "es_client = Elasticsearch('http://localhost:9200') "
   ]
  },
  {
   "cell_type": "code",
   "execution_count": 3,
   "id": "387acc9d",
   "metadata": {
    "scrolled": false
   },
   "outputs": [
    {
     "name": "stdout",
     "output_type": "stream",
     "text": [
      "{'_index': 'documents_20240816_2712', '_id': 'xjIWXZEBftxKSSgEX8eC', '_score': 5.7542934, '_ignored': ['text.keyword'], '_source': {'text': \"No, you can only get a certificate if you finish the course with a “live” cohort.\\nWe don't award certificates for the self-paced mode. The reason is you need to peer-review 3 capstone(s) after submitting your own project.\\nYou can only peer-review projects at the time the course is running; after the form is closed and the peer-review list is compiled.\", 'section': 'General course-related questions', 'question': 'Certificate - Can I follow the course in a self-paced mode and get a certificate?', 'course': 'llm-zoomcamp', 'document_id': 'a705279d'}}\n"
     ]
    }
   ],
   "source": [
    "index_name = 'documents_20240816_2712'\n",
    "response = es_client.search(index=index_name, body=query)\n",
    "\n",
    "print(response['hits']['hits'][0])"
   ]
  },
  {
   "cell_type": "markdown",
   "id": "1d1a6522-d7b3-438b-a554-f34ef3fc8417",
   "metadata": {},
   "source": [
    "**Answer = a705279d**"
   ]
  },
  {
   "cell_type": "markdown",
   "id": "bac4c6cd-0b8b-4bbe-8f50-e94c64285e06",
   "metadata": {},
   "source": [
    "## Question 6"
   ]
  },
  {
   "cell_type": "code",
   "execution_count": 4,
   "id": "9387acbc",
   "metadata": {},
   "outputs": [
    {
     "name": "stdout",
     "output_type": "stream",
     "text": [
      "{'_index': 'documents_20240816_2643', '_id': 'cjJMXZEBftxKSSgE3si6', '_score': 5.753417, '_ignored': ['text.keyword'], '_source': {'text': \"No, you can only get a certificate if you finish the course with a “live” cohort.\\nWe don't award certificates for the self-paced mode. The reason is you need to peer-review 3 capstone(s) after submitting your own project.\\nYou can only peer-review projects at the time the course is running; after the form is closed and the peer-review list is compiled.\", 'section': 'General course-related questions', 'question': 'Certificate - Can I follow the course in a self-paced mode and get a certificate?', 'course': 'llm-zoomcamp', 'document_id': 'a705279d'}}\n"
     ]
    }
   ],
   "source": [
    "index_name = 'documents_20240816_2643'\n",
    "response = es_client.search(index=index_name, body=query)\n",
    "\n",
    "print(response['hits']['hits'][0])"
   ]
  },
  {
   "cell_type": "markdown",
   "id": "08b4d2a6-a9dd-450e-878a-262f57704e7d",
   "metadata": {},
   "source": [
    "**Answer = a705279d**"
   ]
  }
 ],
 "metadata": {
  "kernelspec": {
   "display_name": "Python 3 (ipykernel)",
   "language": "python",
   "name": "python3"
  },
  "language_info": {
   "codemirror_mode": {
    "name": "ipython",
    "version": 3
   },
   "file_extension": ".py",
   "mimetype": "text/x-python",
   "name": "python",
   "nbconvert_exporter": "python",
   "pygments_lexer": "ipython3",
   "version": "3.11.4"
  }
 },
 "nbformat": 4,
 "nbformat_minor": 5
}
